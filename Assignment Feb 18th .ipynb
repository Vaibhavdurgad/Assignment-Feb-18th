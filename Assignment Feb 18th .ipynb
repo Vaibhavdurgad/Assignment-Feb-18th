{
 "cells": [
  {
   "cell_type": "markdown",
   "id": "8d53aca3-aa40-4d2b-9732-e1f81ef6228c",
   "metadata": {},
   "source": [
    "Q1. What is an API? Give an example, where an API is used in real life."
   ]
  },
  {
   "cell_type": "markdown",
   "id": "697978f5-d9d5-40d5-a3cf-66fbb93d871c",
   "metadata": {},
   "source": [
    "Ans:An Application Programming Interface that allows software applications to interact with each other."
   ]
  },
  {
   "cell_type": "markdown",
   "id": "7126671c-70ca-40c2-a448-4fc4b7470da2",
   "metadata": {},
   "source": [
    "Sharing flight information between airlines and travel sites. Using Google Maps in a rideshare app"
   ]
  },
  {
   "cell_type": "markdown",
   "id": "e3267dee-82b8-4878-8a30-17a18aa0d70d",
   "metadata": {},
   "source": [
    "Q2. Give advantages and disadvantages of using API."
   ]
  },
  {
   "cell_type": "markdown",
   "id": "a641ce59-c639-4aa6-b512-174c5f92a8f5",
   "metadata": {},
   "source": [
    "Ans: advantages of using API\n",
    "1.Increased Visibility and Traffic.\n",
    "2.Increased Efficiency.\n",
    "3.Easier Maintenance.\n",
    "4.Reduced Costs.\n",
    "\n",
    "\n",
    "Disadvantages of using API\n",
    "1.Increased Complexity.\n",
    "2.Limited Functionality.\n",
    "3.Dependency on Third Party Services."
   ]
  },
  {
   "cell_type": "markdown",
   "id": "98c7bea7-d6d5-4aab-99b0-04b9abf2e2ad",
   "metadata": {},
   "source": [
    "Q3. What is a Web API? Differentiate between API and Web API."
   ]
  },
  {
   "cell_type": "markdown",
   "id": "8c5342ca-9543-42c7-abc6-8c89e9b4b82c",
   "metadata": {},
   "source": [
    "Ans: A Web API is a set of standards and protocols for accessing web-based software applications or web tools. It provides a way for different software systems to communicate with each other over the internet."
   ]
  },
  {
   "cell_type": "markdown",
   "id": "e5542af7-f9c7-42d2-8ae3-a43f11a3f55a",
   "metadata": {},
   "source": [
    "Web API\t\n",
    "1.All web services are APIs.\t\n",
    "2.It supports XML.\t\n",
    "3.You need a SOAP protocol to send or receive and data over the network. Therefore it does not have light-weight architecture.\n",
    "4.It can be used by any client who understands XML.\t\n",
    "5.Web service uses three styles: REST, SOAP, and XML-RPC for communication.\t\n",
    "6.It provides supports only for the HTTP protocol.\t\n",
    "\n",
    "\n",
    "API\n",
    "1.All APIs are not web API.\n",
    "2.Responses are formatted using Web API’s MediaTypeFormatter into XML, JSON, or any other given format.\n",
    "3.API has a light-weight architecture.\n",
    "4.It can be used by a client who understands JSON or XML.\n",
    "5.API can be used for any style of communication.\n",
    "6.It provides support for the HTTP/s protocol: URL Request/Response Headers, etc.\n"
   ]
  },
  {
   "cell_type": "markdown",
   "id": "90695806-8477-447f-b0ee-78acd4fa5377",
   "metadata": {},
   "source": [
    "Q4. Explain REST and SOAP Architecture. Mention shortcomings of SOAP."
   ]
  },
  {
   "cell_type": "markdown",
   "id": "b9bfd884-bda3-4a6a-b4e7-a99ee8393c4c",
   "metadata": {},
   "source": [
    "Ans : A REST API is a type of API that uses Representational State Transfer (REST) principles. REST is a set of architectural principles for designing networked systems, and REST APIs are designed to be lightweight, scalable, and easy to use. They are the most common type of web API and use standard HTTP methods (such as GET, POST, PUT, and DELETE) to interact with data.\n",
    "\n",
    "SOAP stands for Simple Object Access Protocol and is a protocol for sending and receiving messages between applications. SOAP messages are typically sent over HTTP or other transport protocols and are formatted in XML. SOAP is designed to provide a secure and reliable way for applications to communicate with each other, making it a popular choice for building web-based services.\n",
    "\n",
    "Shortcomings of SOAP\n",
    "1.Resource-consuming.\n",
    "2.Hard learning curve.\n",
    "3.Lacks flexibility."
   ]
  },
  {
   "cell_type": "markdown",
   "id": "f117ce11-137d-4aef-bda2-f87d3ed10dc1",
   "metadata": {},
   "source": [
    "Q5. Differentiate between REST and SOAP."
   ]
  },
  {
   "cell_type": "markdown",
   "id": "11a2fab0-e5d9-4959-9f3b-183a1204d7b5",
   "metadata": {},
   "source": [
    "Ans:\n",
    "SOAP API  \n",
    "1.Relies on SOAP (Simple Object Access Protocol).\n",
    "2.Transports data in standard XML format.\n",
    "3.Because it is XML based and relies on SOAP, it works with WSDL.\t\n",
    "4.Works over HTTP, HTTPS, SMTP, XMPP.\t\n",
    "5.Highly structured/typed.\n",
    "6.Designed with large enterprise applications in mind\t\n",
    "\n",
    "REST API\n",
    "1.Relies on REST (Representational State Transfer) architecture using HTTP.\n",
    "2.Generally transports data in JSON. It is based on URI. Because REST follows stateless model, REST does not enforces message format as XML or JSON etc.\n",
    "3.It works with GET, POST, PUT, DELETE.\n",
    "4.Works over HTTP and HTTPS.\n",
    "5.Less structured -> less bulky data.\n",
    "6.Designed with mobile devices in mind"
   ]
  }
 ],
 "metadata": {
  "kernelspec": {
   "display_name": "Python 3 (ipykernel)",
   "language": "python",
   "name": "python3"
  },
  "language_info": {
   "codemirror_mode": {
    "name": "ipython",
    "version": 3
   },
   "file_extension": ".py",
   "mimetype": "text/x-python",
   "name": "python",
   "nbconvert_exporter": "python",
   "pygments_lexer": "ipython3",
   "version": "3.10.8"
  }
 },
 "nbformat": 4,
 "nbformat_minor": 5
}
